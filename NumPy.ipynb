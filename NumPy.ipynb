{
 "cells": [
  {
   "cell_type": "markdown",
   "id": "646dd896-dcfe-4b15-9ad9-804643b7d49b",
   "metadata": {},
   "source": [
    "# NumPy Eğitim Notları\n",
    "\n",
    "<p>Merhaba. Bu defterde NumPy kütüphanesinin kullanımını anlatacağım.\n",
    "NumPy veri bilimi için kullanılan temel bir kütüphanedir ve veri biliminde\n",
    "başlangıç olarak bu kütüphane öğrenilir.</p> <p>Bu eğitimde Numpy kütüphanesinin nasıl kullanıldığını anlatan temel düzeyde eğitici bilgiler yazdım. Ben bu kütüphaneyi örenirken bu defteri yazdım ve faydalı olması\n",
    "açısından github sayfamda yayınladım.\n",
    "Bu eğitim notları, Python bildiğiniz var sayılarak anlatılmıştır. Bu defterde Python eğitimi bulunmamaktadır.</p>\n",
    "\n",
    "<a href=\"https://www.github.com/YigitC7\">Github<a>\n",
    "\n",
    "<br>\n",
    "\n",
    "<p>Hadi başlayalım :)</p>"
   ]
  },
  {
   "cell_type": "code",
   "execution_count": 2,
   "id": "385e1d65-cf71-461a-a2c1-a659f98e1319",
   "metadata": {},
   "outputs": [],
   "source": [
    "import numpy as np # Dahil ettik ve np olarak yeniden isimlendirdik"
   ]
  },
  {
   "cell_type": "markdown",
   "id": "374a0e99-7106-4873-a7ea-40fba32c474d",
   "metadata": {},
   "source": [
    "## Fonksiyonlar"
   ]
  },
  {
   "cell_type": "markdown",
   "id": "25fbde1c-7fd6-412b-aea2-d809715065d9",
   "metadata": {},
   "source": [
    "### array fonksiyonu ve matrixler"
   ]
  },
  {
   "cell_type": "code",
   "execution_count": 4,
   "id": "551dfe09-7dd6-4049-9807-fc1e30b6f63d",
   "metadata": {},
   "outputs": [
    {
     "data": {
      "text/plain": [
       "array([1, 2, 3, 4, 5, 6, 7])"
      ]
     },
     "execution_count": 4,
     "metadata": {},
     "output_type": "execute_result"
    }
   ],
   "source": [
    "# Bu fonksiyon parametre olarak içerisine liste alır ve bu liste NumPy ile işlem yapabileceğimiz farklı bir liste formatına dönüştürülür.\n",
    "# Örnek:\n",
    "\n",
    "liste = [1,2,3,4,5,6,7]\n",
    "np.array(liste)"
   ]
  },
  {
   "cell_type": "code",
   "execution_count": 5,
   "id": "0c0e3b8f-65a1-4cff-a5e7-70f5875431f0",
   "metadata": {},
   "outputs": [
    {
     "name": "stdout",
     "output_type": "stream",
     "text": [
      "<class 'numpy.ndarray'>\n"
     ]
    }
   ],
   "source": [
    "# Görmüş olduğunuz üzere liste değişkenine bağlı olan bir liste verisini NumPy kütüphanesinin işlem yapabileceği bir forma dönüştürdük.\n",
    "# Şimdi de bunun tipine bir bakalım:\n",
    "\n",
    "print(type(np.array(liste)))"
   ]
  },
  {
   "cell_type": "code",
   "execution_count": 6,
   "id": "36cc1da6-5a6a-48ff-9abb-2768b45782ca",
   "metadata": {},
   "outputs": [
    {
     "data": {
      "text/plain": [
       "array([1, 2, 3, 4, 5, 6, 7])"
      ]
     },
     "execution_count": 6,
     "metadata": {},
     "output_type": "execute_result"
    }
   ],
   "source": [
    "# Ve tabiki bunu da bir değişkene atayabiliriz.\n",
    "\n",
    "YeniListe = np.array(liste)\n",
    "YeniListe # Bunu yaparak listenin içeriğini görüntüleyebiliriz."
   ]
  },
  {
   "cell_type": "code",
   "execution_count": 8,
   "id": "59a5c96d-1e21-46bf-8fd1-abd3f9e4fe9c",
   "metadata": {},
   "outputs": [
    {
     "name": "stdout",
     "output_type": "stream",
     "text": [
      "8\n"
     ]
    }
   ],
   "source": [
    "# Şimdi Matrix bir liste oluşturalim :D Ama matrix liste de nedir? İşte bir örnek:\n",
    "\n",
    "MatrixListe = [[1,2,3,4,5],[6,7,8,9,0]]\n",
    "\n",
    "# İşte bu bir matrix listedir, yani iki boyutlu bir liste.\n",
    "# Aklınızdaki soru şu olmalı, Bu listenin elemanlarına nasıl erişebilirim?\n",
    "# İşte şu şekilde:\n",
    "\n",
    "print(MatrixListe[1][2]) # Birinci index'de ki liste ve o liste'de ki ikinci index'de ki eleman. Çıktı:"
   ]
  },
  {
   "cell_type": "code",
   "execution_count": 14,
   "id": "7b1fd00a-1838-4aae-b99c-adc3c440a129",
   "metadata": {},
   "outputs": [
    {
     "name": "stdout",
     "output_type": "stream",
     "text": [
      "[6, 7, 8, 9, 0]\n"
     ]
    }
   ],
   "source": [
    "# [1][2]:\n",
    "# [1] --> [[1,2,3,4,5],[6,7,8,9,0]]\n",
    "#                       ^ 1 index'te ki liste\n",
    "# [2] --> [6,7,8,9,0]\n",
    "#              ^ 2 index'te ki eleman\n",
    "\n",
    "# Sadece bir tane index girersek ne olur?\n",
    "\n",
    "print(MatrixListe[1])"
   ]
  },
  {
   "cell_type": "code",
   "execution_count": 11,
   "id": "8f10dbf6-879f-4150-b01b-fb016999b79f",
   "metadata": {},
   "outputs": [],
   "source": [
    "# Gürmüş olduğunuz gibi birinci index'de olan listenin tamamını verdi (Bunu tahmin edenler Python bilgileri gelişmiştir)\n",
    "# Şimdi bu Matrix Listeyi array fonksiyonu ile dönüştürelim:\n",
    "\n",
    "YeniMatrixListe = np.array(MatrixListe)"
   ]
  },
  {
   "cell_type": "code",
   "execution_count": 12,
   "id": "f764367e-6afc-40e1-b9e7-35d180868fd8",
   "metadata": {},
   "outputs": [
    {
     "data": {
      "text/plain": [
       "array([[1, 2, 3, 4, 5],\n",
       "       [6, 7, 8, 9, 0]])"
      ]
     },
     "execution_count": 12,
     "metadata": {},
     "output_type": "execute_result"
    }
   ],
   "source": [
    "# Bu Listeyi görüntüleyelim\n",
    "\n",
    "YeniMatrixListe"
   ]
  },
  {
   "cell_type": "code",
   "execution_count": 1,
   "id": "e309aba5-58aa-4273-a563-71eaf269ba4b",
   "metadata": {},
   "outputs": [],
   "source": [
    "# Görmüş olduğunuz gibi listeyi 2 boyutlu bir şekilde, yani daha düzenli bir şekilde görüntüleyebiliyoruz."
   ]
  },
  {
   "cell_type": "markdown",
   "id": "e062214c-1150-4b53-8192-2b6f279a551f",
   "metadata": {},
   "source": [
    "### arange fonksiyonu"
   ]
  },
  {
   "cell_type": "code",
   "execution_count": 5,
   "id": "7da30403-e8dc-43cf-b252-4ecb6f37d7ba",
   "metadata": {},
   "outputs": [
    {
     "data": {
      "text/plain": [
       "array([1, 2, 3, 4, 5, 6, 7, 8, 9])"
      ]
     },
     "execution_count": 5,
     "metadata": {},
     "output_type": "execute_result"
    }
   ],
   "source": [
    "# Bu fonksiyon tıpkı range gibi sayılar üretir.\n",
    "# Örnek:\n",
    "\n",
    "np.arange(1,10)"
   ]
  },
  {
   "cell_type": "code",
   "execution_count": 9,
   "id": "5fe1eff3-f1c7-46c3-8d88-a5f7716bf160",
   "metadata": {},
   "outputs": [
    {
     "data": {
      "text/plain": [
       "array([ 2,  4,  6,  8, 10, 12, 14, 16, 18, 20])"
      ]
     },
     "execution_count": 9,
     "metadata": {},
     "output_type": "execute_result"
    }
   ],
   "source": [
    "# 1'den 10'a kadar sayı üretti ama 10 dahil değil.\n",
    "# Şimdi de ikişer olarak gidelim (2'den 20'e ikişer ikişer gitsin):\n",
    "\n",
    "np.arange(2,21,2)"
   ]
  },
  {
   "cell_type": "code",
   "execution_count": 10,
   "id": "037649c5-71d1-4f2c-aa65-c36fb8ed0971",
   "metadata": {},
   "outputs": [],
   "source": [
    "# Bunun mantığı bildiğiniz range() fonksiyonu gibidir."
   ]
  },
  {
   "cell_type": "markdown",
   "id": "9d80d3ee-0a36-4cf9-8506-759d0fe5ec2f",
   "metadata": {},
   "source": [
    "### zeros ve ones fonksiyonları"
   ]
  },
  {
   "cell_type": "code",
   "execution_count": 16,
   "id": "08de58a1-89af-4dab-a30c-9b8004ee1da1",
   "metadata": {},
   "outputs": [
    {
     "data": {
      "text/plain": [
       "array([0., 0., 0., 0., 0., 0., 0., 0.])"
      ]
     },
     "execution_count": 16,
     "metadata": {},
     "output_type": "execute_result"
    }
   ],
   "source": [
    "# Bu iki fonksiyon aynı şekilde çalıştığı için ikisini bir başlıkta ele almak mantıklıdır.\n",
    "# zeros fonksiyonu sadece 0 sayılar üretirken ones fonksiyonu ise sadece 1 sayılar üretir.\n",
    "# önce zeros fonksiyonuna bir bakalım:\n",
    "\n",
    "np.zeros(8)"
   ]
  },
  {
   "cell_type": "code",
   "execution_count": 18,
   "id": "9334d27c-9b02-4e8f-adb9-f39f025ba659",
   "metadata": {},
   "outputs": [
    {
     "ename": "TypeError",
     "evalue": "Cannot interpret '8' as a data type",
     "output_type": "error",
     "traceback": [
      "\u001b[1;31m---------------------------------------------------------------------------\u001b[0m",
      "\u001b[1;31mTypeError\u001b[0m                                 Traceback (most recent call last)",
      "Cell \u001b[1;32mIn[18], line 4\u001b[0m\n\u001b[0;32m      1\u001b[0m \u001b[38;5;66;03m# 8 tane sıfırlardan oluşan bir liste verdi.\u001b[39;00m\n\u001b[0;32m      2\u001b[0m \u001b[38;5;66;03m# Peki bunu iki boyutlu yapabilirmiyiz? bir deniyelim:\u001b[39;00m\n\u001b[1;32m----> 4\u001b[0m np\u001b[38;5;241m.\u001b[39mzeros(\u001b[38;5;241m8\u001b[39m,\u001b[38;5;241m8\u001b[39m)\n",
      "\u001b[1;31mTypeError\u001b[0m: Cannot interpret '8' as a data type"
     ]
    }
   ],
   "source": [
    "# 8 tane sıfırlardan oluşan bir liste verdi.\n",
    "# Peki bunu iki boyutlu yapabilirmiyiz? bir deniyelim:\n",
    "\n",
    "np.zeros(8,8)"
   ]
  },
  {
   "cell_type": "code",
   "execution_count": 19,
   "id": "faaf27b4-3bc4-4ae7-8a30-e52ce8ec88e7",
   "metadata": {},
   "outputs": [
    {
     "data": {
      "text/plain": [
       "array([[0., 0., 0., 0., 0., 0., 0., 0.],\n",
       "       [0., 0., 0., 0., 0., 0., 0., 0.],\n",
       "       [0., 0., 0., 0., 0., 0., 0., 0.],\n",
       "       [0., 0., 0., 0., 0., 0., 0., 0.],\n",
       "       [0., 0., 0., 0., 0., 0., 0., 0.],\n",
       "       [0., 0., 0., 0., 0., 0., 0., 0.],\n",
       "       [0., 0., 0., 0., 0., 0., 0., 0.],\n",
       "       [0., 0., 0., 0., 0., 0., 0., 0.]])"
      ]
     },
     "execution_count": 19,
     "metadata": {},
     "output_type": "execute_result"
    }
   ],
   "source": [
    "# Hata verdi, bunun nedeni şudur, eğer bu fonksiyonda iki boyutlu bir liste üreteceksek o zaman iki kat () koymalıyız.\n",
    "# Örnek:\n",
    "\n",
    "np.zeros((8,8))"
   ]
  },
  {
   "cell_type": "code",
   "execution_count": 20,
   "id": "7463bbb1-436f-45d5-bb92-12f93c29d342",
   "metadata": {},
   "outputs": [
    {
     "data": {
      "text/plain": [
       "array([[1., 1., 1., 1., 1., 1., 1., 1.],\n",
       "       [1., 1., 1., 1., 1., 1., 1., 1.],\n",
       "       [1., 1., 1., 1., 1., 1., 1., 1.],\n",
       "       [1., 1., 1., 1., 1., 1., 1., 1.],\n",
       "       [1., 1., 1., 1., 1., 1., 1., 1.],\n",
       "       [1., 1., 1., 1., 1., 1., 1., 1.],\n",
       "       [1., 1., 1., 1., 1., 1., 1., 1.],\n",
       "       [1., 1., 1., 1., 1., 1., 1., 1.]])"
      ]
     },
     "execution_count": 20,
     "metadata": {},
     "output_type": "execute_result"
    }
   ],
   "source": [
    "# İşte oldu :D 8x8 büyüklüğünde iki boyutlu ve sadece sıfırlar ile oluşan bir liste yaptık.\n",
    "\n",
    "# Şimdi de ones fonksiyonuna bakalım\n",
    "# Bu fonksiyonda tıpkı zeros fonksiyonu gibidir ama tek farkı, sıfır yerine bir sayılarını üretmesi\n",
    "# Örnek:\n",
    "\n",
    "np.ones((8,8))"
   ]
  },
  {
   "cell_type": "markdown",
   "id": "6dffd48f-2db7-4721-99c9-56a4aa6a82a7",
   "metadata": {},
   "source": [
    "### linspace fonksiyonu"
   ]
  },
  {
   "cell_type": "code",
   "execution_count": 25,
   "id": "0b6e592e-8f95-4564-a373-98562d0d0e5b",
   "metadata": {},
   "outputs": [
    {
     "data": {
      "text/plain": [
       "array([ 1.,  2.,  3.,  4.,  5.,  6.,  7.,  8.,  9., 10.])"
      ]
     },
     "execution_count": 25,
     "metadata": {},
     "output_type": "execute_result"
    }
   ],
   "source": [
    "# Bu fonksiyon veri biliminde sik kullanılan ve önemli bir fonksiyondur. Peki ne işe yarar?\n",
    "# arange fonksiyonu gibi sayılar üretir ama en büyük farkı ise, ürettüğünüz sayının mesafesini istediğiniz kadar arttırabilirsiniz.\n",
    "# Bu fonksiyon 3 tane int değer alabilir ama üçüncü zorumlu değil.\n",
    "\n",
    "\n",
    "np.linspace(1,10,10)"
   ]
  },
  {
   "cell_type": "code",
   "execution_count": 26,
   "id": "909711c1-eea6-4fc0-b134-14647b23c48a",
   "metadata": {},
   "outputs": [
    {
     "data": {
      "text/plain": [
       "array([ 1.        ,  1.47368421,  1.94736842,  2.42105263,  2.89473684,\n",
       "        3.36842105,  3.84210526,  4.31578947,  4.78947368,  5.26315789,\n",
       "        5.73684211,  6.21052632,  6.68421053,  7.15789474,  7.63157895,\n",
       "        8.10526316,  8.57894737,  9.05263158,  9.52631579, 10.        ])"
      ]
     },
     "execution_count": 26,
     "metadata": {},
     "output_type": "execute_result"
    }
   ],
   "source": [
    "# Burada yaptığımız şey şu, 1'den 10'a kadar giden 10 tane sayı ürettik. Bu sayıların mesafesi hep aynı olacaktır.\n",
    "# Peki 1'den 10'a kadar giden 20 sayı üret dersek ne olur?\n",
    "\n",
    "np.linspace(1,10,20)"
   ]
  },
  {
   "cell_type": "code",
   "execution_count": 27,
   "id": "9046c8e9-4823-4904-9865-e15d953301d0",
   "metadata": {},
   "outputs": [
    {
     "data": {
      "text/plain": [
       "array([ 1.        ,  1.23076923,  1.46153846,  1.69230769,  1.92307692,\n",
       "        2.15384615,  2.38461538,  2.61538462,  2.84615385,  3.07692308,\n",
       "        3.30769231,  3.53846154,  3.76923077,  4.        ,  4.23076923,\n",
       "        4.46153846,  4.69230769,  4.92307692,  5.15384615,  5.38461538,\n",
       "        5.61538462,  5.84615385,  6.07692308,  6.30769231,  6.53846154,\n",
       "        6.76923077,  7.        ,  7.23076923,  7.46153846,  7.69230769,\n",
       "        7.92307692,  8.15384615,  8.38461538,  8.61538462,  8.84615385,\n",
       "        9.07692308,  9.30769231,  9.53846154,  9.76923077, 10.        ])"
      ]
     },
     "execution_count": 27,
     "metadata": {},
     "output_type": "execute_result"
    }
   ],
   "source": [
    "# Bu sefer fluat tipine geçti ve 10'a gidene kadar 20 tane sayı üretti ama hepsinin arasında eşit farklar var.\n",
    "# 1 ve 10 dışında hepsi fluat tipindedir.\n",
    "# Mesafeyi istediğiniz kadar arttırabilirsiniz.\n",
    "\n",
    "np.linspace(1,10,40)"
   ]
  },
  {
   "cell_type": "markdown",
   "id": "482cc475-26c7-4ca8-88cc-1b069e052ce9",
   "metadata": {},
   "source": [
    "### eye fonksiyonu"
   ]
  },
  {
   "cell_type": "code",
   "execution_count": 33,
   "id": "87cffbe8-1a7e-4544-b243-291b6eb124d3",
   "metadata": {},
   "outputs": [
    {
     "data": {
      "text/plain": [
       "array([[1., 0., 0.],\n",
       "       [0., 1., 0.],\n",
       "       [0., 0., 1.]])"
      ]
     },
     "execution_count": 33,
     "metadata": {},
     "output_type": "execute_result"
    }
   ],
   "source": [
    "# Bu fonksiyon pek gerekli görünmüyor ama belki işe yarayabilir.\n",
    "# Bu fonksiyon ise, desenli bir biçimde bir ve sıfırlardan oluşan iki boyutlu bir liste üretir\n",
    "# Örnek:\n",
    "\n",
    "np.eye(3) # 3x3"
   ]
  },
  {
   "cell_type": "code",
   "execution_count": 34,
   "id": "3f08d1e9-51df-40f1-a870-cdc4dbb0f146",
   "metadata": {},
   "outputs": [
    {
     "data": {
      "text/plain": [
       "array([[1., 0., 0., 0., 0., 0., 0., 0., 0., 0.],\n",
       "       [0., 1., 0., 0., 0., 0., 0., 0., 0., 0.],\n",
       "       [0., 0., 1., 0., 0., 0., 0., 0., 0., 0.],\n",
       "       [0., 0., 0., 1., 0., 0., 0., 0., 0., 0.],\n",
       "       [0., 0., 0., 0., 1., 0., 0., 0., 0., 0.],\n",
       "       [0., 0., 0., 0., 0., 1., 0., 0., 0., 0.],\n",
       "       [0., 0., 0., 0., 0., 0., 1., 0., 0., 0.],\n",
       "       [0., 0., 0., 0., 0., 0., 0., 1., 0., 0.],\n",
       "       [0., 0., 0., 0., 0., 0., 0., 0., 1., 0.],\n",
       "       [0., 0., 0., 0., 0., 0., 0., 0., 0., 1.]])"
      ]
     },
     "execution_count": 34,
     "metadata": {},
     "output_type": "execute_result"
    }
   ],
   "source": [
    "np.eye(10) # 10x10"
   ]
  },
  {
   "cell_type": "markdown",
   "id": "04ae063a-37f4-4ab3-8ab4-d51a0024cdfe",
   "metadata": {},
   "source": [
    "### Random kütüphanesi"
   ]
  },
  {
   "cell_type": "code",
   "execution_count": 35,
   "id": "c3f14fbe-cabc-4da7-b8a0-c89cc620d61a",
   "metadata": {},
   "outputs": [
    {
     "data": {
      "text/plain": [
       "array([-0.08843831,  0.00565588, -0.43474202,  0.23854244,  0.43838438,\n",
       "        2.23702243,  0.45775355,  0.07786934])"
      ]
     },
     "execution_count": 35,
     "metadata": {},
     "output_type": "execute_result"
    }
   ],
   "source": [
    "# Bu kütüphane np'nin altındadır ve iki tane fonksiyondan bahsedeceğim, randn ve randint.\n",
    "\n",
    "# randn:\n",
    "# Hem tek boyutlu hemde iki boutlu olacak şekilde rastgele sayılardan oluşan liste üretir.\n",
    "# Ama üreteceğimiz sayıların aralığını belirleyemeyiz.\n",
    "# Örnek:\n",
    "\n",
    "np.random.randn(8) # Tek boyutlu"
   ]
  },
  {
   "cell_type": "code",
   "execution_count": 36,
   "id": "682792d6-4cdc-4772-9cef-7b0ae43e2bae",
   "metadata": {},
   "outputs": [
    {
     "data": {
      "text/plain": [
       "array([[ 1.98351773, -0.40509379, -2.12357139,  0.73276429, -0.53688756,\n",
       "        -0.29127005, -1.73726265, -0.01310573],\n",
       "       [ 1.20906203, -1.41490795, -1.28212023,  0.23510146, -1.42494921,\n",
       "         3.26779702, -0.69905664,  0.66632368],\n",
       "       [-1.09346219, -0.82979531, -0.49241007,  2.21479496,  1.27480928,\n",
       "         1.1251428 ,  0.35174174,  0.97480863],\n",
       "       [-1.23420722,  0.92259915,  2.43442114,  1.51980964,  0.97128398,\n",
       "         0.07521105, -0.82639453,  0.63232158],\n",
       "       [-0.65761281, -0.09005304,  1.6638285 ,  1.45829453,  0.46203928,\n",
       "        -0.3140789 ,  0.34936266,  0.60011712],\n",
       "       [ 0.33638693,  0.87992121, -1.24463934,  0.08456173,  0.0225444 ,\n",
       "         2.38053762, -1.88551741,  0.01578147],\n",
       "       [-1.8136862 ,  3.19093183,  1.41114709, -0.33809315,  0.04251555,\n",
       "         0.73014823,  0.23960607, -0.34898826],\n",
       "       [-1.75623561,  0.70395775, -1.58570664,  0.67692891,  0.96538739,\n",
       "         1.82039506, -1.24235901,  0.0891461 ]])"
      ]
     },
     "execution_count": 36,
     "metadata": {},
     "output_type": "execute_result"
    }
   ],
   "source": [
    "np.random.randn(8,8) # İki boyutlu"
   ]
  },
  {
   "cell_type": "code",
   "execution_count": 49,
   "id": "43666c6d-22f7-49e0-91ec-cca84eb43153",
   "metadata": {},
   "outputs": [
    {
     "data": {
      "text/plain": [
       "6"
      ]
     },
     "execution_count": 49,
     "metadata": {},
     "output_type": "execute_result"
    }
   ],
   "source": [
    "# randint:\n",
    "# Bu fonksiyon ise bildiğiniz randint gibi çalışır.\n",
    "\n",
    "np.random.randint(1,7) # 1'den 7'ye kadar rastgele sayı üret ama 7 dahil değil."
   ]
  },
  {
   "cell_type": "code",
   "execution_count": 52,
   "id": "a32c1580-c8e1-4b08-aca2-7c1af9c11f24",
   "metadata": {},
   "outputs": [
    {
     "data": {
      "text/plain": [
       "array([6, 3, 2, 2, 2, 1, 3, 5, 3, 3])"
      ]
     },
     "execution_count": 52,
     "metadata": {},
     "output_type": "execute_result"
    }
   ],
   "source": [
    "# Üçüncü bir parametre girersek liste oluşturacak ve üçüncü parametre kadar rastgele sayı üretir\n",
    "\n",
    "np.random.randint(1,7,10)"
   ]
  },
  {
   "cell_type": "code",
   "execution_count": 1,
   "id": "90787d4b-06ae-4756-90b0-5e43da5bd9bd",
   "metadata": {},
   "outputs": [],
   "source": [
    "# 10 tane 1'den 7'ye kadar (7 dahil değil) 10 tane rastgele sayı ürettik.\n",
    "# Bu foksiyon sadece tek boyutludur ama for döngüsü ile iki boyutlu olacak şekilde yapabilirsiniz."
   ]
  },
  {
   "cell_type": "markdown",
   "id": "bc94ca32-76b6-4ebb-bec5-1f0490fa20a1",
   "metadata": {},
   "source": [
    "## Methodlar"
   ]
  },
  {
   "cell_type": "markdown",
   "id": "8cbff53e-1da0-483c-9969-8ce03968acc3",
   "metadata": {},
   "source": [
    "### reshape hethodu"
   ]
  },
  {
   "cell_type": "code",
   "execution_count": 9,
   "id": "a08a5d07-9b31-449e-9d6c-251ca127b538",
   "metadata": {},
   "outputs": [
    {
     "data": {
      "text/plain": [
       "array([1, 3, 3, 9, 5, 9, 7, 3, 2, 4, 9, 5, 3, 7, 2, 8, 3, 3, 7, 9, 9, 9,\n",
       "       4, 4, 3, 2, 7, 2, 4, 7, 9, 4, 7, 3, 5, 9, 5, 8, 6, 1])"
      ]
     },
     "execution_count": 9,
     "metadata": {},
     "output_type": "execute_result"
    }
   ],
   "source": [
    "# Bu Method bir listeyi iki boyutla hale getirir ve listeyi böler.\n",
    "# Örnek:\n",
    "\n",
    "Liste = np.random.randint(1,10,40) # 40 elemanlık rastgele sayılardan oluşan bir listemiz var, şimdi bunu Matrix bir listeye dönüştürelim.\n",
    "Liste # İçeriğine bir bakalım"
   ]
  },
  {
   "cell_type": "code",
   "execution_count": 16,
   "id": "6d16e21e-334d-4337-9117-5dba2ed276a5",
   "metadata": {},
   "outputs": [
    {
     "data": {
      "text/plain": [
       "array([[1, 3, 3, 9, 5, 9, 7, 3, 2, 4],\n",
       "       [9, 5, 3, 7, 2, 8, 3, 3, 7, 9],\n",
       "       [9, 9, 4, 4, 3, 2, 7, 2, 4, 7],\n",
       "       [9, 4, 7, 3, 5, 9, 5, 8, 6, 1]])"
      ]
     },
     "execution_count": 16,
     "metadata": {},
     "output_type": "execute_result"
    }
   ],
   "source": [
    "# Şimdi bunu ikinci boyuta dönüştürelim:\n",
    "\n",
    "Liste.reshape(4,10)"
   ]
  },
  {
   "cell_type": "code",
   "execution_count": 17,
   "id": "76aa35e2-c456-4eb3-b489-3cdc704d4c5b",
   "metadata": {},
   "outputs": [
    {
     "ename": "ValueError",
     "evalue": "cannot reshape array of size 40 into shape (5,6)",
     "output_type": "error",
     "traceback": [
      "\u001b[1;31m---------------------------------------------------------------------------\u001b[0m",
      "\u001b[1;31mValueError\u001b[0m                                Traceback (most recent call last)",
      "Cell \u001b[1;32mIn[17], line 4\u001b[0m\n\u001b[0;32m      1\u001b[0m \u001b[38;5;66;03m# İşte burada listeyi iki boyutlu olacak şekilde böldük.\u001b[39;00m\n\u001b[0;32m      2\u001b[0m \u001b[38;5;66;03m# Eğer uyuşmayan bir bölme biçimi girseydik hata alırdık.\u001b[39;00m\n\u001b[1;32m----> 4\u001b[0m Liste\u001b[38;5;241m.\u001b[39mreshape(\u001b[38;5;241m5\u001b[39m,\u001b[38;5;241m6\u001b[39m)\n",
      "\u001b[1;31mValueError\u001b[0m: cannot reshape array of size 40 into shape (5,6)"
     ]
    }
   ],
   "source": [
    "# İşte burada listeyi iki boyutlu olacak şekilde böldük.\n",
    "# Eğer uyuşmayan bir bölme biçimi girseydik hata alırdık.\n",
    "\n",
    "Liste.reshape(5,6)"
   ]
  },
  {
   "cell_type": "code",
   "execution_count": 18,
   "id": "742504f2-b96e-42c2-ba0a-d64b4e1fe8b4",
   "metadata": {},
   "outputs": [],
   "source": [
    "# Bu method sayesinde listelerimizi bölebilir ve bu sayede daha iyi okunabilir hale getirebiliriz."
   ]
  },
  {
   "cell_type": "markdown",
   "id": "592c5a20-6418-4141-b028-4e7eb9bb8fca",
   "metadata": {},
   "source": [
    "### max ve min methodları"
   ]
  },
  {
   "cell_type": "code",
   "execution_count": 19,
   "id": "e269f41e-3bc7-4c22-81fc-a1181b798526",
   "metadata": {},
   "outputs": [
    {
     "data": {
      "text/plain": [
       "9"
      ]
     },
     "execution_count": 19,
     "metadata": {},
     "output_type": "execute_result"
    }
   ],
   "source": [
    "# max methodu listede bulunan en büyük değeri getirirken min ise en küçük elemanı, yani sayıyı getirir.\n",
    "# Örnek: (Yukarıda oluşturduğumuz List değşkeninini kullanalım)\n",
    "\n",
    "Liste.max()"
   ]
  },
  {
   "cell_type": "code",
   "execution_count": 20,
   "id": "de4f8e3e-8a3d-4d36-a582-af64939294d0",
   "metadata": {},
   "outputs": [
    {
     "data": {
      "text/plain": [
       "1"
      ]
     },
     "execution_count": 20,
     "metadata": {},
     "output_type": "execute_result"
    }
   ],
   "source": [
    "# Max 9 olması beklendik bir durum çünkü bu listeyi 1'den 10'a kadar ama 10 dahil olmayacak şekilde random sayı üretmesini istedik.\n",
    "# Şimdi de minimum, yani bu listede bulunan en küçük elemanını bularım, ki onu zaten biliyoruz.\n",
    "\n",
    "Liste.min()"
   ]
  },
  {
   "cell_type": "markdown",
   "id": "9b608800-d822-4b9c-b66b-6656be3b3e8a",
   "metadata": {},
   "source": [
    "### argmax ve argmin methodları"
   ]
  },
  {
   "cell_type": "code",
   "execution_count": 21,
   "id": "8d77e7c2-2d6c-435c-a3e9-ad0a6ca093d6",
   "metadata": {},
   "outputs": [
    {
     "data": {
      "text/plain": [
       "3"
      ]
     },
     "execution_count": 21,
     "metadata": {},
     "output_type": "execute_result"
    }
   ],
   "source": [
    "# Max ve Min methodlarının yaptığı işi yapar, en büyük ve en küçük değerini bize verir ama bu sefer sadece bu dğerlerin index numarasını bize verir.\n",
    "# Yani max değeri bulur ve bu sefer sadece index numarasını yazar.\n",
    "# Örnek:\n",
    "\n",
    "Liste.argmax() "
   ]
  },
  {
   "cell_type": "code",
   "execution_count": 24,
   "id": "43b0da3c-bd5d-46e2-87b0-72b8740c5e5a",
   "metadata": {},
   "outputs": [
    {
     "data": {
      "text/plain": [
       "array([1, 3, 3, 9, 5, 9, 7, 3, 2, 4, 9, 5, 3, 7, 2, 8, 3, 3, 7, 9, 9, 9,\n",
       "       4, 4, 3, 2, 7, 2, 4, 7, 9, 4, 7, 3, 5, 9, 5, 8, 6, 1])"
      ]
     },
     "execution_count": 24,
     "metadata": {},
     "output_type": "execute_result"
    }
   ],
   "source": [
    "# Demekki max değer olan 9 elemanı ilk defa 3.index'de (bu liste rastgele değerlerden oluştuğu için, siz tekrar başlatınca farklı indexler görünebilir)\n",
    "# bulunuyor, bir bakalım:\n",
    "\n",
    "Liste"
   ]
  },
  {
   "cell_type": "code",
   "execution_count": 25,
   "id": "c8fef6f8-5a10-46da-9aee-ec49bf0efb21",
   "metadata": {},
   "outputs": [
    {
     "data": {
      "text/plain": [
       "0"
      ]
     },
     "execution_count": 25,
     "metadata": {},
     "output_type": "execute_result"
    }
   ],
   "source": [
    "# Şimdi de minimum değerin index numarasına bakalım\n",
    "\n",
    "Liste.argmin()"
   ]
  },
  {
   "cell_type": "markdown",
   "id": "976d4950-f140-49ec-b744-1faa10d47a85",
   "metadata": {},
   "source": [
    "### shape methodu"
   ]
  },
  {
   "cell_type": "code",
   "execution_count": 27,
   "id": "3b709f6c-e7b7-4bdc-8ae1-2f0a46f329d9",
   "metadata": {},
   "outputs": [
    {
     "data": {
      "text/plain": [
       "array([[1, 3, 3, 9, 5, 9, 7, 3, 2, 4],\n",
       "       [9, 5, 3, 7, 2, 8, 3, 3, 7, 9],\n",
       "       [9, 9, 4, 4, 3, 2, 7, 2, 4, 7],\n",
       "       [9, 4, 7, 3, 5, 9, 5, 8, 6, 1]])"
      ]
     },
     "execution_count": 27,
     "metadata": {},
     "output_type": "execute_result"
    }
   ],
   "source": [
    "# 1 yada 2 boyutlu bir listenin boyutunu verir.\n",
    "# Bir listeyi iki boyutlu yapıp bu methodu kullanınca daha iyi anlarsınız:\n",
    "\n",
    "MatrixListe = Liste.reshape(4,10) # Yine yukarıdaki Listeyi kullandım (sjsjsj)\n",
    "MatrixListe"
   ]
  },
  {
   "cell_type": "code",
   "execution_count": 29,
   "id": "10f535c5-ab1d-491f-8fdf-ea54a9b065ad",
   "metadata": {},
   "outputs": [
    {
     "data": {
      "text/plain": [
       "(4, 10)"
      ]
     },
     "execution_count": 29,
     "metadata": {},
     "output_type": "execute_result"
    }
   ],
   "source": [
    "# Şimdi bunun boyutuna bakalım\n",
    "\n",
    "MatrixListe.shape"
   ]
  },
  {
   "cell_type": "code",
   "execution_count": 30,
   "id": "bccb9dcb-339c-45af-8b74-0ed2aa9d4d35",
   "metadata": {},
   "outputs": [
    {
     "data": {
      "text/plain": [
       "(40,)"
      ]
     },
     "execution_count": 30,
     "metadata": {},
     "output_type": "execute_result"
    }
   ],
   "source": [
    "# Görmüş olduğunuz gibi bu listenin 4x10 boytunda olduğunu bize söyledi\n",
    "# Şimdi de tek boyutlu bie listeyi deniyelim:\n",
    "\n",
    "Liste.shape"
   ]
  },
  {
   "cell_type": "code",
   "execution_count": 31,
   "id": "36b5d455-5cca-44fe-b24c-91d61ae7d48c",
   "metadata": {},
   "outputs": [
    {
     "name": "stdout",
     "output_type": "stream",
     "text": [
      "40\n"
     ]
    }
   ],
   "source": [
    "# Tek boyutlu liste olduğu için sadece bir eleman verdi ve bu da listenin kaç elemanlı olduğunu gösteriyor.\n",
    "# Yani tek boyutda bu method len fonksiyonu gibi çalışır.\n",
    "\n",
    "print(len(Liste))"
   ]
  },
  {
   "cell_type": "markdown",
   "id": "9a687dda-b855-462a-b21c-e9d9d4368d96",
   "metadata": {},
   "source": [
    "## İndex işlemleri"
   ]
  },
  {
   "cell_type": "markdown",
   "id": "91b45084-73fc-441e-8daf-2abb57d08e6f",
   "metadata": {},
   "source": [
    "### Bir boyutlu listeler"
   ]
  },
  {
   "cell_type": "code",
   "execution_count": 6,
   "id": "0c56f2be-a104-4c9a-87d1-e1e4942da4fe",
   "metadata": {},
   "outputs": [
    {
     "data": {
      "text/plain": [
       "array([ 0,  1,  2,  3,  4,  5,  6,  7,  8,  9, 10, 11, 12, 13, 14])"
      ]
     },
     "execution_count": 6,
     "metadata": {},
     "output_type": "execute_result"
    }
   ],
   "source": [
    "# Bir boyutlu listelerde index işlemleri yapacağız, önce 0'dan 15'e kadar(Yani 14) bir liste oluşturalım\n",
    "\n",
    "Liste = np.arange(0,15)\n",
    "Liste"
   ]
  },
  {
   "cell_type": "code",
   "execution_count": 7,
   "id": "0a27197e-7dde-4c01-aa69-d6cf55df2750",
   "metadata": {},
   "outputs": [
    {
     "data": {
      "text/plain": [
       "8"
      ]
     },
     "execution_count": 7,
     "metadata": {},
     "output_type": "execute_result"
    }
   ],
   "source": [
    "# Şimdi 8.index'de bulunan elemanı görelim\n",
    "\n",
    "Liste[8]"
   ]
  },
  {
   "cell_type": "code",
   "execution_count": 8,
   "id": "6edec88b-6b12-4753-8207-f7c7fd69ead6",
   "metadata": {},
   "outputs": [
    {
     "data": {
      "text/plain": [
       "array([0, 1, 2, 3, 4, 5, 6, 7])"
      ]
     },
     "execution_count": 8,
     "metadata": {},
     "output_type": "execute_result"
    }
   ],
   "source": [
    "# Bu kadar basit :D\n",
    "# Şimdi de 0'dan 8'e kadar(8 yine dahil değil) olan verileri görüntüleyelim\n",
    "\n",
    "Liste[0:8]"
   ]
  },
  {
   "cell_type": "code",
   "execution_count": 11,
   "id": "4cb03812-1a0e-4548-8b49-b477945c9b7a",
   "metadata": {},
   "outputs": [
    {
     "data": {
      "text/plain": [
       "array([ 0,  0,  0,  0,  0,  0,  6,  7,  8,  9, 10, 11, 12, 13, 14])"
      ]
     },
     "execution_count": 11,
     "metadata": {},
     "output_type": "execute_result"
    }
   ],
   "source": [
    "# Bu işlemleri zaten biliyorsunuz, python'da yaptığımız sıradan işlemler. Şimdi farklı birşey yapalım.\n",
    "# Belirlediğimiz index'de ki elemanları değiştirelim:\n",
    "\n",
    "Liste[1:6] = 0\n",
    "\n",
    "# Bir bakalım\n",
    "Liste"
   ]
  },
  {
   "cell_type": "code",
   "execution_count": 17,
   "id": "404649be-b4ac-4766-86a4-e0cb4d308bf4",
   "metadata": {},
   "outputs": [
    {
     "data": {
      "text/plain": [
       "array([1, 2, 3, 4, 5, 6, 7])"
      ]
     },
     "execution_count": 17,
     "metadata": {},
     "output_type": "execute_result"
    }
   ],
   "source": [
    "# 1'den 6'ya kadar yani 5'e kadar, artık her neyse, bu indexleri 0'a çevirdik.\n",
    "# Şimdi çok garip birşey yapalım, bu indexleri bir değişkene atayalım ve değiştirelim\n",
    "\n",
    "Liste = np.arange(0,15) # Eski haline çevirme\n",
    "Liste2 = Liste[1:8] # Bu indexleri farklı bir değişkene atamak\n",
    "\n",
    "# eee bunun neresi garip? şimdi göreceksiniz...\n",
    "\n",
    "# Liste2 Çıktı:\n",
    "Liste2"
   ]
  },
  {
   "cell_type": "code",
   "execution_count": 18,
   "id": "00959709-620a-4f53-b137-683dcfaa60b9",
   "metadata": {},
   "outputs": [
    {
     "data": {
      "text/plain": [
       "array([ 0,  1,  2,  3,  4,  5,  6,  7,  8,  9, 10, 11, 12, 13, 14])"
      ]
     },
     "execution_count": 18,
     "metadata": {},
     "output_type": "execute_result"
    }
   ],
   "source": [
    "# Liste çıktı:\n",
    "Liste"
   ]
  },
  {
   "cell_type": "code",
   "execution_count": 19,
   "id": "578c0b0b-96e8-4c52-8c72-97e9714f4d39",
   "metadata": {},
   "outputs": [
    {
     "data": {
      "text/plain": [
       "array([-8, -8, -8, -8, -8, -8, -8])"
      ]
     },
     "execution_count": 19,
     "metadata": {},
     "output_type": "execute_result"
    }
   ],
   "source": [
    "# Evet iki ayrı liste elde ettik, şimdi Liste2'de ki bütün elemanları değiştirelim.\n",
    "# Bütün elemanları seçmek için [:] yazmak yeterli\n",
    "\n",
    "Liste2[:] = -8\n",
    "\n",
    "# Bakalım\n",
    "Liste2"
   ]
  },
  {
   "cell_type": "code",
   "execution_count": 20,
   "id": "3a014950-916b-4bde-a674-bcfd56a3a48b",
   "metadata": {},
   "outputs": [
    {
     "data": {
      "text/plain": [
       "array([ 0, -8, -8, -8, -8, -8, -8, -8,  8,  9, 10, 11, 12, 13, 14])"
      ]
     },
     "execution_count": 20,
     "metadata": {},
     "output_type": "execute_result"
    }
   ],
   "source": [
    "# Şimdi gerip olan şeyi göstereyim.\n",
    "# İki ayrı liste ürettik ve ben sadece bu listeyi değiştirdim\n",
    "# Liste değişkeninin sabit olduğunu düşünebilirsiniz ama bir bakalım:\n",
    "\n",
    "Liste"
   ]
  },
  {
   "cell_type": "code",
   "execution_count": 28,
   "id": "e6cc5de5-fe6f-45b3-95b3-7efdb9a42150",
   "metadata": {},
   "outputs": [
    {
     "data": {
      "text/plain": [
       "array([ 0,  1,  2,  3,  4,  5,  6,  7,  8,  9, 10, 11, 12, 13, 14])"
      ]
     },
     "execution_count": 28,
     "metadata": {},
     "output_type": "execute_result"
    }
   ],
   "source": [
    "# Bu nasıl olur? ben sadece List2'yi değiştirdim bu nasıl olur?\n",
    "# İlk başta bende anlamamıştım ama biraz düşününce bunun neden olduğunu anlayabiliyoruz.\n",
    "# Gerçek python programcıları iseniz o zaman bunun neyden kaynaklandığını anlamış olmalısınız.\n",
    "\n",
    "# Biz dedik ki Liste2 = Liste[1:8] Yani burada yeni bir liste oluşturmuyoruz.\n",
    "# Sadece bu listede bulunan, çağırdığımız indexleri bir değişkene atamış oluyoruz.\n",
    "# Yani Liste2 aslında bir liste değil, o sadece Liste'nin belirli elemanlarını tutan bir değişken.\n",
    "# Liste[0,1,2,3,4,5,6,7,8,9,10,11,12,13,14]\n",
    "#         ^^^^^^^^^^^^^ = Liste2\n",
    "# List2[:] = -8 | sonuç:\n",
    "# Liste[0,-8,-8,-8,-8,-8,-8,-8,8,9,10,11,12,13,14]\n",
    "#         ^^^^^^^^^^^^^^^^^^^^ = Liste2\n",
    "\n",
    "# Eğer istediğiniz index'de ki elemanları gerçek bir liste halinde olmasını istiyorsak o zaman copy methodunu kullanırız.\n",
    "# Yani listenin kopyasını oluşturacağız, ondan sonra istediğimiz index'i alır gibi yapacağız\n",
    "# Örnek:\n",
    "\n",
    "Liste = np.arange(0,15) # Listeyi eski haline getir\n",
    "ListeKopyasi = Liste.copy() # Listeyi kopyala\n",
    "\n",
    "Liste"
   ]
  },
  {
   "cell_type": "code",
   "execution_count": 30,
   "id": "f3936371-ff4e-432e-bcb5-5a53cba911ed",
   "metadata": {},
   "outputs": [
    {
     "data": {
      "text/plain": [
       "array([ 0,  1,  2,  3,  4,  5,  6,  7,  8,  9, 10, 11, 12, 13, 14])"
      ]
     },
     "execution_count": 30,
     "metadata": {},
     "output_type": "execute_result"
    }
   ],
   "source": [
    "ListeKopyasi"
   ]
  },
  {
   "cell_type": "code",
   "execution_count": 33,
   "id": "225e5456-0d52-48ee-802e-cc10aed321af",
   "metadata": {},
   "outputs": [
    {
     "data": {
      "text/plain": [
       "array([0, 0, 0, 0, 0, 0, 0])"
      ]
     },
     "execution_count": 33,
     "metadata": {},
     "output_type": "execute_result"
    }
   ],
   "source": [
    "# Listeyi kopyaladık, şimdi orjinalini değiştirmeden istediğimiz index'de ki verileri değiştirebiliriz.\n",
    "\n",
    "Liste2 = ListeKopyasi[1:8]\n",
    "Liste2[:] = 0\n",
    "\n",
    "Liste2"
   ]
  },
  {
   "cell_type": "code",
   "execution_count": 32,
   "id": "45e3675f-6155-4d11-9e87-e614fd433bfa",
   "metadata": {},
   "outputs": [
    {
     "data": {
      "text/plain": [
       "array([ 0,  1,  2,  3,  4,  5,  6,  7,  8,  9, 10, 11, 12, 13, 14])"
      ]
     },
     "execution_count": 32,
     "metadata": {},
     "output_type": "execute_result"
    }
   ],
   "source": [
    "Liste"
   ]
  },
  {
   "cell_type": "code",
   "execution_count": 34,
   "id": "33f0f2b3-a7f0-47f3-87d7-2350c3dcfbfc",
   "metadata": {},
   "outputs": [
    {
     "data": {
      "text/plain": [
       "array([ 0,  0,  0,  0,  0,  0,  0,  0,  8,  9, 10, 11, 12, 13, 14])"
      ]
     },
     "execution_count": 34,
     "metadata": {},
     "output_type": "execute_result"
    }
   ],
   "source": [
    "ListeKopyasi"
   ]
  },
  {
   "cell_type": "markdown",
   "id": "c7a63c3f-5520-43b7-b24c-027ae76628ec",
   "metadata": {},
   "source": [
    "## İki boyutlu listeler"
   ]
  },
  {
   "cell_type": "code",
   "execution_count": 35,
   "id": "54eed4f1-89b3-488c-8d2b-60e468f2f7df",
   "metadata": {},
   "outputs": [
    {
     "data": {
      "text/plain": [
       "array([[1, 2, 3],\n",
       "       [4, 5, 6],\n",
       "       [7, 8, 9]])"
      ]
     },
     "execution_count": 35,
     "metadata": {},
     "output_type": "execute_result"
    }
   ],
   "source": [
    "# Bu seferde iki boyutlu, yani matrix olan listeler üzerinden index işlemleri yapacağız.\n",
    "# Öncelikle 2D bir liste oluşturalım\n",
    "\n",
    "MatrixListe = np.array([ [1,2,3],[4,5,6],[7,8,9] ])\n",
    "MatrixListe"
   ]
  },
  {
   "cell_type": "code",
   "execution_count": 37,
   "id": "26dae839-08fc-4241-9017-31eccb3d8c50",
   "metadata": {},
   "outputs": [
    {
     "data": {
      "text/plain": [
       "7"
      ]
     },
     "execution_count": 37,
     "metadata": {},
     "output_type": "execute_result"
    }
   ],
   "source": [
    "# Bunun iki tane erişim parametresi vardır\n",
    "# birinci parametre listeyi seçer ve ikinci parametre seçilen listedeki elemanı seçer.\n",
    "# Örnek olarak ikinci index'de bulunan listenin 0.index'de ki elemanını istiyelim\n",
    "\n",
    "MatrixListe[2][0]"
   ]
  },
  {
   "cell_type": "code",
   "execution_count": 39,
   "id": "f7118a7b-c849-4a09-ae59-c7acdef9b9a0",
   "metadata": {},
   "outputs": [
    {
     "data": {
      "text/plain": [
       "7"
      ]
     },
     "execution_count": 39,
     "metadata": {},
     "output_type": "execute_result"
    }
   ],
   "source": [
    "# Bu kadar basir aslında\n",
    "\n",
    "# İlk parametre [2]:\n",
    "# [1, 2, 3] 0.index\n",
    "# [4, 5, 6] 1.index\n",
    "# [7, 8, 9] 2.index <\n",
    "\n",
    "# İkinci parametre [0]:\n",
    "# [7, 8, 9]\n",
    "#  ^ \n",
    "\n",
    "# iki tane [][] kullanmak yerine şu şekilde de kullanılabilir: [2,0]\n",
    "\n",
    "MatrixListe[2,0]"
   ]
  },
  {
   "cell_type": "code",
   "execution_count": 41,
   "id": "7bcd3b4a-3e6e-4623-a275-13bffbb06404",
   "metadata": {},
   "outputs": [
    {
     "data": {
      "text/plain": [
       "array([[1, 2, 3],\n",
       "       [4, 5, 6]])"
      ]
     },
     "execution_count": 41,
     "metadata": {},
     "output_type": "execute_result"
    }
   ],
   "source": [
    "# Birden fazla liste seçersek ne olur?\n",
    "\n",
    "MatrixListe[0:2]"
   ]
  },
  {
   "cell_type": "code",
   "execution_count": 42,
   "id": "3e8cc735-6996-40d9-b49d-59d648aaaa49",
   "metadata": {},
   "outputs": [
    {
     "data": {
      "text/plain": [
       "array([1, 4])"
      ]
     },
     "execution_count": 42,
     "metadata": {},
     "output_type": "execute_result"
    }
   ],
   "source": [
    "# 0'dan 2'ye kadar ama 2 dahil değil\n",
    "\n",
    "# [1, 2, 3] 0.index <\n",
    "# [4, 5, 6] 1.index <\n",
    "# [7, 8, 9] 2.index\n",
    "\n",
    "# Birde şöyle birşey yapalım\n",
    "\n",
    "MatrixListe[0:2,0]"
   ]
  },
  {
   "cell_type": "code",
   "execution_count": 43,
   "id": "98ccac43-afd6-40a7-b4b8-8dab751da3bd",
   "metadata": {},
   "outputs": [
    {
     "data": {
      "text/plain": [
       "array([2, 5, 8])"
      ]
     },
     "execution_count": 43,
     "metadata": {},
     "output_type": "execute_result"
    }
   ],
   "source": [
    "# Bu sefer ise 0 ve 1 index'de bulunan listeleri seçti ve bu iki listenin 0.index'de bulunan elemanını bize verdi.\n",
    "# Bu sefer şunu yapalım: bütün listelerde bulunan elemanların 1.index'de ki elemanlarını bize versin.\n",
    "# Hadi yapalım:\n",
    "\n",
    "MatrixListe[:,1]"
   ]
  },
  {
   "cell_type": "code",
   "execution_count": 44,
   "id": "5b18042c-485d-4532-bb4d-2ca752449454",
   "metadata": {},
   "outputs": [],
   "source": [
    "# Bu kadar basit"
   ]
  },
  {
   "cell_type": "markdown",
   "id": "96dfc68c-550e-476b-95b8-6c872f08f659",
   "metadata": {},
   "source": [
    "## Mantıksal operasyonlar"
   ]
  },
  {
   "cell_type": "markdown",
   "id": "7e4e6cce-3414-4f5a-81e2-1621744be140",
   "metadata": {},
   "source": [
    "### Büyüktür ve Küçüktür operatörleri"
   ]
  },
  {
   "cell_type": "code",
   "execution_count": 56,
   "id": "485182ea-af02-448c-8fcd-e53e77fe8628",
   "metadata": {},
   "outputs": [
    {
     "data": {
      "text/plain": [
       "array([ 3, 12,  9,  7, 10,  8,  5,  6,  8,  2])"
      ]
     },
     "execution_count": 56,
     "metadata": {},
     "output_type": "execute_result"
    }
   ],
   "source": [
    "# Şimdi mantıksal işlemler yapalım. Rastgele sayılardan oluşan tek boyutlu bir liste olsun ve bu listede 7'den büyük sayıları bulalım.\n",
    "\n",
    "Liste = np.random.randint(1,14,10)\n",
    "Liste"
   ]
  },
  {
   "cell_type": "code",
   "execution_count": 57,
   "id": "77cfc6d9-1d96-4618-8e99-13a401c1c459",
   "metadata": {},
   "outputs": [
    {
     "data": {
      "text/plain": [
       "array([False,  True,  True, False,  True,  True, False, False,  True,\n",
       "       False])"
      ]
     },
     "execution_count": 57,
     "metadata": {},
     "output_type": "execute_result"
    }
   ],
   "source": [
    "Liste > 7"
   ]
  },
  {
   "cell_type": "code",
   "execution_count": 58,
   "id": "6ac84b42-71ba-4709-8808-645ab5015021",
   "metadata": {},
   "outputs": [
    {
     "data": {
      "text/plain": [
       "array([ True, False, False, False, False, False,  True,  True, False,\n",
       "        True])"
      ]
     },
     "execution_count": 58,
     "metadata": {},
     "output_type": "execute_result"
    }
   ],
   "source": [
    "# 7'den büyük sayılar True, diğerleri ise False olarak gösterildi\n",
    "# Şimdi de 7'den küçük olanlara bakalım\n",
    "\n",
    "Liste < 7"
   ]
  },
  {
   "cell_type": "code",
   "execution_count": 59,
   "id": "7c5e8270-1880-45a5-8c75-0b7cf7673600",
   "metadata": {},
   "outputs": [],
   "source": [
    "# Bu seferde tam tersini yaptık."
   ]
  },
  {
   "cell_type": "markdown",
   "id": "5b4b91ef-83d1-46ee-9d2c-cd5534f4e81c",
   "metadata": {},
   "source": [
    "### Eşittir operatörü"
   ]
  },
  {
   "cell_type": "code",
   "execution_count": 60,
   "id": "7795399d-fd29-4dd6-9177-cfa25eb44944",
   "metadata": {},
   "outputs": [
    {
     "data": {
      "text/plain": [
       "array([False, False, False,  True, False, False, False, False, False,\n",
       "       False])"
      ]
     },
     "execution_count": 60,
     "metadata": {},
     "output_type": "execute_result"
    }
   ],
   "source": [
    "# Bu sefer sadece 7 olanları alalım\n",
    "\n",
    "Liste == 7"
   ]
  },
  {
   "cell_type": "code",
   "execution_count": 61,
   "id": "d4ac7b41-0f46-4591-80f7-aff5ce3c9e46",
   "metadata": {},
   "outputs": [
    {
     "data": {
      "text/plain": [
       "7"
      ]
     },
     "execution_count": 61,
     "metadata": {},
     "output_type": "execute_result"
    }
   ],
   "source": [
    "# Sadece 3.index'de ki eleman 7 olduğu görünüyor. Bir bakalım\n",
    "Liste[3]"
   ]
  },
  {
   "cell_type": "code",
   "execution_count": 64,
   "id": "e9ea0430-88bc-480c-9540-4ca072c1712a",
   "metadata": {},
   "outputs": [
    {
     "data": {
      "text/plain": [
       "array([12,  9, 10,  8,  8])"
      ]
     },
     "execution_count": 64,
     "metadata": {},
     "output_type": "execute_result"
    }
   ],
   "source": [
    "# Şimdi de 7'den büyük sayıları True False olarak değilde sadece oldukları gibi görelim.\n",
    "# Bunun için şunu yaparız:\n",
    "\n",
    "Liste_yedidenBuyukler = Liste > 7 # 7'den büyük olanların True False olarak yazan o listeyi bir değişkene atadık\n",
    "\n",
    "Liste[Liste_yedidenBuyukler] "
   ]
  },
  {
   "cell_type": "code",
   "execution_count": 65,
   "id": "ab30e18a-d950-47f3-8baa-3fe34a5ae5ad",
   "metadata": {},
   "outputs": [],
   "source": [
    "# İndex çağırma alanına True ve False olan listeyi verdik ve bize True ile işaretli indexleri verdi.\n",
    "# Bu sayede filtreleme algoritmaları yazabilirsiniz."
   ]
  },
  {
   "cell_type": "markdown",
   "id": "70bea8c8-da32-4ea8-bc80-201e1d24c334",
   "metadata": {},
   "source": [
    "### Aritmetik operatörler"
   ]
  },
  {
   "cell_type": "code",
   "execution_count": 66,
   "id": "c47f984b-6a2c-40fe-bfad-d8c63370a9ae",
   "metadata": {},
   "outputs": [
    {
     "data": {
      "text/plain": [
       "array([ 0,  1,  2,  3,  4,  5,  6,  7,  8,  9, 10, 11, 12, 13, 14, 15, 16,\n",
       "       17, 18, 19, 20, 21, 22, 23])"
      ]
     },
     "execution_count": 66,
     "metadata": {},
     "output_type": "execute_result"
    }
   ],
   "source": [
    "# Listeler arası toplama, çarpma, bölme gibi işlemleri yapabilirsiniz\n",
    "\n",
    "Liste = np.arange(0,24)\n",
    "Liste"
   ]
  },
  {
   "cell_type": "code",
   "execution_count": 67,
   "id": "5455e33a-343c-4d78-9508-ba7f6ff65b7d",
   "metadata": {},
   "outputs": [
    {
     "data": {
      "text/plain": [
       "array([ 0,  2,  4,  6,  8, 10, 12, 14, 16, 18, 20, 22, 24, 26, 28, 30, 32,\n",
       "       34, 36, 38, 40, 42, 44, 46])"
      ]
     },
     "execution_count": 67,
     "metadata": {},
     "output_type": "execute_result"
    }
   ],
   "source": [
    "Liste + Liste # Bütün elemanları kendisi ile topla"
   ]
  },
  {
   "cell_type": "code",
   "execution_count": 68,
   "id": "5ec008fc-91bb-4460-accd-ee215305531a",
   "metadata": {},
   "outputs": [
    {
     "data": {
      "text/plain": [
       "array([  0,   1,   4,   9,  16,  25,  36,  49,  64,  81, 100, 121, 144,\n",
       "       169, 196, 225, 256, 289, 324, 361, 400, 441, 484, 529])"
      ]
     },
     "execution_count": 68,
     "metadata": {},
     "output_type": "execute_result"
    }
   ],
   "source": [
    "Liste * Liste # Kendisi ile çarp"
   ]
  },
  {
   "cell_type": "code",
   "execution_count": 69,
   "id": "0c124b68-45ab-4661-b2ac-0e473bcfe510",
   "metadata": {},
   "outputs": [
    {
     "data": {
      "text/plain": [
       "array([0, 0, 0, 0, 0, 0, 0, 0, 0, 0, 0, 0, 0, 0, 0, 0, 0, 0, 0, 0, 0, 0,\n",
       "       0, 0])"
      ]
     },
     "execution_count": 69,
     "metadata": {},
     "output_type": "execute_result"
    }
   ],
   "source": [
    "Liste - Liste # Kendisi ile çıkart"
   ]
  },
  {
   "cell_type": "code",
   "execution_count": 70,
   "id": "a87562b2-9ba6-4578-8366-e74300d7c740",
   "metadata": {},
   "outputs": [
    {
     "name": "stderr",
     "output_type": "stream",
     "text": [
      "C:\\Users\\yigit\\AppData\\Local\\Temp\\ipykernel_12448\\2246754809.py:1: RuntimeWarning: invalid value encountered in divide\n",
      "  Liste / Liste # Ve kendisi ile böl\n"
     ]
    },
    {
     "data": {
      "text/plain": [
       "array([nan,  1.,  1.,  1.,  1.,  1.,  1.,  1.,  1.,  1.,  1.,  1.,  1.,\n",
       "        1.,  1.,  1.,  1.,  1.,  1.,  1.,  1.,  1.,  1.,  1.])"
      ]
     },
     "execution_count": 70,
     "metadata": {},
     "output_type": "execute_result"
    }
   ],
   "source": [
    "Liste / Liste # Ve kendisi ile böl"
   ]
  },
  {
   "cell_type": "code",
   "execution_count": 72,
   "id": "2f107f30-e7e6-432b-9dfe-58c5163b3341",
   "metadata": {},
   "outputs": [
    {
     "data": {
      "text/plain": [
       "array([1., 1., 1., 1., 1., 1., 1., 1., 1., 1., 1., 1., 1., 1., 1., 1., 1.,\n",
       "       1., 1., 1., 1., 1., 1.])"
      ]
     },
     "execution_count": 72,
     "metadata": {},
     "output_type": "execute_result"
    }
   ],
   "source": [
    "# opss arada sıfır kaynadı\n",
    "Liste[1:] / Liste[1:]"
   ]
  },
  {
   "cell_type": "markdown",
   "id": "320dcb47-ddcb-461c-acba-c4208f3a0327",
   "metadata": {},
   "source": [
    "# Kapanış\n",
    "<p>Tebrikler! Artık NumPy kütüphanesinin temellerini öğrendiniz ve veri bilimine giriş yaptınız. \n",
    "Ama bu kütüphane veri bilimi için yeterli değildir, bu sadece başlangıç. Bu kütüphane veri biliminin temeli olsa da tek başına yeterli değildir.</p>"
   ]
  },
  {
   "cell_type": "code",
   "execution_count": null,
   "id": "598eef85-aa8a-4a81-bf90-7122fe61a2eb",
   "metadata": {},
   "outputs": [],
   "source": []
  }
 ],
 "metadata": {
  "kernelspec": {
   "display_name": "Python [conda env:base] *",
   "language": "python",
   "name": "conda-base-py"
  },
  "language_info": {
   "codemirror_mode": {
    "name": "ipython",
    "version": 3
   },
   "file_extension": ".py",
   "mimetype": "text/x-python",
   "name": "python",
   "nbconvert_exporter": "python",
   "pygments_lexer": "ipython3",
   "version": "3.12.7"
  }
 },
 "nbformat": 4,
 "nbformat_minor": 5
}
